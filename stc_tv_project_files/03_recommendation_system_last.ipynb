{
 "cells": [
  {
   "cell_type": "markdown",
   "id": "beca0744",
   "metadata": {},
   "source": [
    "#  STC TV – Recommendation System\n",
    "Build a recommendation model based on user behavior and suggest top 5 shows for Moana viewers."
   ]
  },
  {
   "cell_type": "code",
   "execution_count": 1,
   "id": "b9249dc1",
   "metadata": {},
   "outputs": [],
   "source": [
    "import pandas as pd\n",
    "import numpy as np\n",
    "from sklearn.metrics.pairwise import cosine_similarity\n",
    "import matplotlib.pyplot as plt\n",
    "import seaborn as sns"
   ]
  },
  {
   "cell_type": "code",
   "execution_count": 2,
   "id": "e6702621",
   "metadata": {},
   "outputs": [
    {
     "data": {
      "text/html": [
       "<div>\n",
       "<style scoped>\n",
       "    .dataframe tbody tr th:only-of-type {\n",
       "        vertical-align: middle;\n",
       "    }\n",
       "\n",
       "    .dataframe tbody tr th {\n",
       "        vertical-align: top;\n",
       "    }\n",
       "\n",
       "    .dataframe thead th {\n",
       "        text-align: right;\n",
       "    }\n",
       "</style>\n",
       "<table border=\"1\" class=\"dataframe\">\n",
       "  <thead>\n",
       "    <tr style=\"text-align: right;\">\n",
       "      <th></th>\n",
       "      <th>user_id_maped</th>\n",
       "      <th>program_name</th>\n",
       "    </tr>\n",
       "  </thead>\n",
       "  <tbody>\n",
       "    <tr>\n",
       "      <th>0</th>\n",
       "      <td>26138</td>\n",
       "      <td>100 treets</td>\n",
       "    </tr>\n",
       "    <tr>\n",
       "      <th>1</th>\n",
       "      <td>7946</td>\n",
       "      <td>Moana</td>\n",
       "    </tr>\n",
       "    <tr>\n",
       "      <th>2</th>\n",
       "      <td>7418</td>\n",
       "      <td>The Mermaid Princess</td>\n",
       "    </tr>\n",
       "    <tr>\n",
       "      <th>3</th>\n",
       "      <td>19307</td>\n",
       "      <td>The Mermaid Princess</td>\n",
       "    </tr>\n",
       "    <tr>\n",
       "      <th>4</th>\n",
       "      <td>15860</td>\n",
       "      <td>Churchill</td>\n",
       "    </tr>\n",
       "  </tbody>\n",
       "</table>\n",
       "</div>"
      ],
      "text/plain": [
       "  user_id_maped          program_name\n",
       "0         26138            100 treets\n",
       "1          7946                 Moana\n",
       "2          7418  The Mermaid Princess\n",
       "3         19307  The Mermaid Princess\n",
       "4         15860             Churchill"
      ]
     },
     "execution_count": 2,
     "metadata": {},
     "output_type": "execute_result"
    }
   ],
   "source": [
    "# Load dataset\n",
    "df = pd.read_excel('stc TV Data Set_T3.xlsx')\n",
    "df['user_id_maped'] = df['user_id_maped'].astype(str)\n",
    "df['program_name'] = df['program_name'].astype(str)\n",
    "df = df[['user_id_maped', 'program_name']]\n",
    "df.head()"
   ]
  },
  {
   "cell_type": "code",
   "execution_count": 3,
   "id": "746070a3",
   "metadata": {},
   "outputs": [],
   "source": [
    "# Create user‑program interaction matrix\n",
    "user_program_matrix = df.pivot_table(index='user_id_maped', \n",
    "                                     columns='program_name', \n",
    "                                     aggfunc=len, fill_value=0)"
   ]
  },
  {
   "cell_type": "code",
   "execution_count": 4,
   "id": "5ebcc25a",
   "metadata": {},
   "outputs": [],
   "source": [
    "# Cosine similarity between programs\n",
    "program_similarity = cosine_similarity(user_program_matrix.T)\n",
    "program_similarity_df = pd.DataFrame(program_similarity, \n",
    "                                     index=user_program_matrix.columns,\n",
    "                                     columns=user_program_matrix.columns)"
   ]
  },
  {
   "cell_type": "code",
   "execution_count": 5,
   "id": "e32848e7",
   "metadata": {},
   "outputs": [
    {
     "name": "stdout",
     "output_type": "stream",
     "text": [
      "Top 5 Recommendations for Moana viewers:\n",
      "program_name\n",
      "Storks                                   0.529357\n",
      "The Jetsons & WWE: Robo-WrestleMania!    0.358278\n",
      "Caramel  (T)                             0.221437\n",
      "Trolls                                   0.197780\n",
      "Inside Out                               0.196744\n",
      "Name: Moana, dtype: float64\n"
     ]
    }
   ],
   "source": [
    "# Top 5 similar programs to Moana\n",
    "if 'Moana' in program_similarity_df.columns:\n",
    "    recommendations = program_similarity_df['Moana'].sort_values(ascending=False)[1:6]\n",
    "    print('Top 5 Recommendations for Moana viewers:')\n",
    "    print(recommendations)\n",
    "else:\n",
    "    print('Moana not found in dataset.')"
   ]
  }
 ],
 "metadata": {
  "kernelspec": {
   "display_name": "Python [conda env:base] *",
   "language": "python",
   "name": "conda-base-py"
  },
  "language_info": {
   "codemirror_mode": {
    "name": "ipython",
    "version": 3
   },
   "file_extension": ".py",
   "mimetype": "text/x-python",
   "name": "python",
   "nbconvert_exporter": "python",
   "pygments_lexer": "ipython3",
   "version": "3.12.7"
  }
 },
 "nbformat": 4,
 "nbformat_minor": 5
}
